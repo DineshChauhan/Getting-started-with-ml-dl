{
 "cells": [
  {
   "cell_type": "markdown",
   "metadata": {},
   "source": [
    "# Evaluating Multiple Models in a Python 3 Notebook\n",
    "\n",
    "##  Introduction\n",
    "\n",
    "The purpose of this example is to compare the performance of machine learning models within a Jupyter notebook. We will use the classic 1974 *Motor Trend* car road tests (`mtcars`) dataset to fit and evaluate three models:\n",
    "1. A linear model using all variables\n",
    "1. A linear model after variable selection\n",
    "1. A Gradient Boosting Machine (GBM) model \n",
    "\n",
    "This is a lightly-modified version of a [notebook](https://gallery.cortanaintelligence.com/Notebook/Evaluating-Multiple-Models-6) originally created by a Microsoft employee for distribution on the [Cortana Intelligence Gallery](https://gallery.cortanaintelligence.com/). [Python 2 and R versions](https://notebooks.azure.com/library/eSJDgAFMXAY) of this notebook are also available on Azure Notebooks.\n",
    "\n",
    "## Outline\n",
    "\n",
    "- [Introduction](#Introduction)\n",
    "- [Prepare Data](#Prepare-Data)\n",
    "- [Fit Models](#Fit-Models)\n",
    "   - [Linear Model](#Linear-Model)\n",
    "   - [Linear Model with Feature Selection](#Linear-Model-with-Feature-Selection)\n",
    "   - [Gradient Boosting Machine Regression Model](#Gradient-Boosting-Machine-Regression-Model)\n",
    "- [Conclusion](#Conclusion)"
   ]
  },
  {
   "cell_type": "markdown",
   "metadata": {},
   "source": [
    "## Prepare Data\n",
    "\n",
    "We'll start by loading the `mtcars` sample dataset and displaying its description:"
   ]
  },
  {
   "cell_type": "code",
   "execution_count": 1,
   "metadata": {
    "collapsed": false,
    "scrolled": true
   },
   "outputs": [
    {
     "name": "stdout",
     "output_type": "stream",
     "text": [
      "mtcars\n",
      "\n",
      "PyDataset Documentation (adopted from R Documentation. The displayed examples are in R)\n",
      "\n",
      "## Motor Trend Car Road Tests\n",
      "\n",
      "### Description\n",
      "\n",
      "The data was extracted from the 1974 _Motor Trend_ US magazine, and comprises\n",
      "fuel consumption and 10 aspects of automobile design and performance for 32\n",
      "automobiles (1973–74 models).\n",
      "\n",
      "### Usage\n",
      "\n",
      "    mtcars\n",
      "\n",
      "### Format\n",
      "\n",
      "A data frame with 32 observations on 11 variables.\n",
      "\n",
      "[, 1]\n",
      "\n",
      "mpg\n",
      "\n",
      "Miles/(US) gallon\n",
      "\n",
      "[, 2]\n",
      "\n",
      "cyl\n",
      "\n",
      "Number of cylinders\n",
      "\n",
      "[, 3]\n",
      "\n",
      "disp\n",
      "\n",
      "Displacement (cu.in.)\n",
      "\n",
      "[, 4]\n",
      "\n",
      "hp\n",
      "\n",
      "Gross horsepower\n",
      "\n",
      "[, 5]\n",
      "\n",
      "drat\n",
      "\n",
      "Rear axle ratio\n",
      "\n",
      "[, 6]\n",
      "\n",
      "wt\n",
      "\n",
      "Weight (lb/1000)\n",
      "\n",
      "[, 7]\n",
      "\n",
      "qsec\n",
      "\n",
      "1/4 mile time\n",
      "\n",
      "[, 8]\n",
      "\n",
      "vs\n",
      "\n",
      "V/S\n",
      "\n",
      "[, 9]\n",
      "\n",
      "am\n",
      "\n",
      "Transmission (0 = automatic, 1 = manual)\n",
      "\n",
      "[,10]\n",
      "\n",
      "gear\n",
      "\n",
      "Number of forward gears\n",
      "\n",
      "[,11]\n",
      "\n",
      "carb\n",
      "\n",
      "Number of carburetors\n",
      "\n",
      "### Source\n",
      "\n",
      "Henderson and Velleman (1981), Building multiple regression models\n",
      "interactively. _Biometrics_, **37**, 391–411.\n",
      "\n",
      "### Examples\n",
      "\n",
      "    require(graphics)\n",
      "    pairs(mtcars, main = \"mtcars data\")\n",
      "    coplot(mpg ~ disp | as.factor(cyl), data = mtcars,\n",
      "           panel = panel.smooth, rows = 1)\n",
      "\n",
      "\n"
     ]
    }
   ],
   "source": [
    "!pip install pydataset --disable-pip-version-check -q  # install a Python package containing the dataset\n",
    "import pydataset\n",
    "from pydataset import data\n",
    "df = data('mtcars')\n",
    "data('mtcars', show_doc=True)"
   ]
  },
  {
   "cell_type": "markdown",
   "metadata": {},
   "source": [
    "We can also quickly examine the distribution of values and first few rows of the dataset:"
   ]
  },
  {
   "cell_type": "code",
   "execution_count": 2,
   "metadata": {
    "collapsed": false
   },
   "outputs": [
    {
     "data": {
      "text/html": [
       "<div>\n",
       "<table border=\"1\" class=\"dataframe\">\n",
       "  <thead>\n",
       "    <tr style=\"text-align: right;\">\n",
       "      <th></th>\n",
       "      <th>mpg</th>\n",
       "      <th>cyl</th>\n",
       "      <th>disp</th>\n",
       "      <th>hp</th>\n",
       "      <th>drat</th>\n",
       "      <th>wt</th>\n",
       "      <th>qsec</th>\n",
       "      <th>vs</th>\n",
       "      <th>am</th>\n",
       "      <th>gear</th>\n",
       "      <th>carb</th>\n",
       "    </tr>\n",
       "  </thead>\n",
       "  <tbody>\n",
       "    <tr>\n",
       "      <th>count</th>\n",
       "      <td>32.000000</td>\n",
       "      <td>32.000000</td>\n",
       "      <td>32.000000</td>\n",
       "      <td>32.000000</td>\n",
       "      <td>32.000000</td>\n",
       "      <td>32.000000</td>\n",
       "      <td>32.000000</td>\n",
       "      <td>32.000000</td>\n",
       "      <td>32.000000</td>\n",
       "      <td>32.000000</td>\n",
       "      <td>32.0000</td>\n",
       "    </tr>\n",
       "    <tr>\n",
       "      <th>mean</th>\n",
       "      <td>20.090625</td>\n",
       "      <td>6.187500</td>\n",
       "      <td>230.721875</td>\n",
       "      <td>146.687500</td>\n",
       "      <td>3.596563</td>\n",
       "      <td>3.217250</td>\n",
       "      <td>17.848750</td>\n",
       "      <td>0.437500</td>\n",
       "      <td>0.406250</td>\n",
       "      <td>3.687500</td>\n",
       "      <td>2.8125</td>\n",
       "    </tr>\n",
       "    <tr>\n",
       "      <th>std</th>\n",
       "      <td>6.026948</td>\n",
       "      <td>1.785922</td>\n",
       "      <td>123.938694</td>\n",
       "      <td>68.562868</td>\n",
       "      <td>0.534679</td>\n",
       "      <td>0.978457</td>\n",
       "      <td>1.786943</td>\n",
       "      <td>0.504016</td>\n",
       "      <td>0.498991</td>\n",
       "      <td>0.737804</td>\n",
       "      <td>1.6152</td>\n",
       "    </tr>\n",
       "    <tr>\n",
       "      <th>min</th>\n",
       "      <td>10.400000</td>\n",
       "      <td>4.000000</td>\n",
       "      <td>71.100000</td>\n",
       "      <td>52.000000</td>\n",
       "      <td>2.760000</td>\n",
       "      <td>1.513000</td>\n",
       "      <td>14.500000</td>\n",
       "      <td>0.000000</td>\n",
       "      <td>0.000000</td>\n",
       "      <td>3.000000</td>\n",
       "      <td>1.0000</td>\n",
       "    </tr>\n",
       "    <tr>\n",
       "      <th>25%</th>\n",
       "      <td>15.425000</td>\n",
       "      <td>4.000000</td>\n",
       "      <td>120.825000</td>\n",
       "      <td>96.500000</td>\n",
       "      <td>3.080000</td>\n",
       "      <td>2.581250</td>\n",
       "      <td>16.892500</td>\n",
       "      <td>0.000000</td>\n",
       "      <td>0.000000</td>\n",
       "      <td>3.000000</td>\n",
       "      <td>2.0000</td>\n",
       "    </tr>\n",
       "    <tr>\n",
       "      <th>50%</th>\n",
       "      <td>19.200000</td>\n",
       "      <td>6.000000</td>\n",
       "      <td>196.300000</td>\n",
       "      <td>123.000000</td>\n",
       "      <td>3.695000</td>\n",
       "      <td>3.325000</td>\n",
       "      <td>17.710000</td>\n",
       "      <td>0.000000</td>\n",
       "      <td>0.000000</td>\n",
       "      <td>4.000000</td>\n",
       "      <td>2.0000</td>\n",
       "    </tr>\n",
       "    <tr>\n",
       "      <th>75%</th>\n",
       "      <td>22.800000</td>\n",
       "      <td>8.000000</td>\n",
       "      <td>326.000000</td>\n",
       "      <td>180.000000</td>\n",
       "      <td>3.920000</td>\n",
       "      <td>3.610000</td>\n",
       "      <td>18.900000</td>\n",
       "      <td>1.000000</td>\n",
       "      <td>1.000000</td>\n",
       "      <td>4.000000</td>\n",
       "      <td>4.0000</td>\n",
       "    </tr>\n",
       "    <tr>\n",
       "      <th>max</th>\n",
       "      <td>33.900000</td>\n",
       "      <td>8.000000</td>\n",
       "      <td>472.000000</td>\n",
       "      <td>335.000000</td>\n",
       "      <td>4.930000</td>\n",
       "      <td>5.424000</td>\n",
       "      <td>22.900000</td>\n",
       "      <td>1.000000</td>\n",
       "      <td>1.000000</td>\n",
       "      <td>5.000000</td>\n",
       "      <td>8.0000</td>\n",
       "    </tr>\n",
       "  </tbody>\n",
       "</table>\n",
       "</div>"
      ],
      "text/plain": [
       "             mpg        cyl        disp          hp       drat         wt  \\\n",
       "count  32.000000  32.000000   32.000000   32.000000  32.000000  32.000000   \n",
       "mean   20.090625   6.187500  230.721875  146.687500   3.596563   3.217250   \n",
       "std     6.026948   1.785922  123.938694   68.562868   0.534679   0.978457   \n",
       "min    10.400000   4.000000   71.100000   52.000000   2.760000   1.513000   \n",
       "25%    15.425000   4.000000  120.825000   96.500000   3.080000   2.581250   \n",
       "50%    19.200000   6.000000  196.300000  123.000000   3.695000   3.325000   \n",
       "75%    22.800000   8.000000  326.000000  180.000000   3.920000   3.610000   \n",
       "max    33.900000   8.000000  472.000000  335.000000   4.930000   5.424000   \n",
       "\n",
       "            qsec         vs         am       gear     carb  \n",
       "count  32.000000  32.000000  32.000000  32.000000  32.0000  \n",
       "mean   17.848750   0.437500   0.406250   3.687500   2.8125  \n",
       "std     1.786943   0.504016   0.498991   0.737804   1.6152  \n",
       "min    14.500000   0.000000   0.000000   3.000000   1.0000  \n",
       "25%    16.892500   0.000000   0.000000   3.000000   2.0000  \n",
       "50%    17.710000   0.000000   0.000000   4.000000   2.0000  \n",
       "75%    18.900000   1.000000   1.000000   4.000000   4.0000  \n",
       "max    22.900000   1.000000   1.000000   5.000000   8.0000  "
      ]
     },
     "execution_count": 2,
     "metadata": {},
     "output_type": "execute_result"
    }
   ],
   "source": [
    "df.describe()"
   ]
  },
  {
   "cell_type": "code",
   "execution_count": 3,
   "metadata": {
    "collapsed": false
   },
   "outputs": [
    {
     "data": {
      "text/html": [
       "<div>\n",
       "<table border=\"1\" class=\"dataframe\">\n",
       "  <thead>\n",
       "    <tr style=\"text-align: right;\">\n",
       "      <th></th>\n",
       "      <th>mpg</th>\n",
       "      <th>cyl</th>\n",
       "      <th>disp</th>\n",
       "      <th>hp</th>\n",
       "      <th>drat</th>\n",
       "      <th>wt</th>\n",
       "      <th>qsec</th>\n",
       "      <th>vs</th>\n",
       "      <th>am</th>\n",
       "      <th>gear</th>\n",
       "      <th>carb</th>\n",
       "    </tr>\n",
       "  </thead>\n",
       "  <tbody>\n",
       "    <tr>\n",
       "      <th>Mazda RX4</th>\n",
       "      <td>21.0</td>\n",
       "      <td>6</td>\n",
       "      <td>160.0</td>\n",
       "      <td>110</td>\n",
       "      <td>3.90</td>\n",
       "      <td>2.620</td>\n",
       "      <td>16.46</td>\n",
       "      <td>0</td>\n",
       "      <td>1</td>\n",
       "      <td>4</td>\n",
       "      <td>4</td>\n",
       "    </tr>\n",
       "    <tr>\n",
       "      <th>Mazda RX4 Wag</th>\n",
       "      <td>21.0</td>\n",
       "      <td>6</td>\n",
       "      <td>160.0</td>\n",
       "      <td>110</td>\n",
       "      <td>3.90</td>\n",
       "      <td>2.875</td>\n",
       "      <td>17.02</td>\n",
       "      <td>0</td>\n",
       "      <td>1</td>\n",
       "      <td>4</td>\n",
       "      <td>4</td>\n",
       "    </tr>\n",
       "    <tr>\n",
       "      <th>Datsun 710</th>\n",
       "      <td>22.8</td>\n",
       "      <td>4</td>\n",
       "      <td>108.0</td>\n",
       "      <td>93</td>\n",
       "      <td>3.85</td>\n",
       "      <td>2.320</td>\n",
       "      <td>18.61</td>\n",
       "      <td>1</td>\n",
       "      <td>1</td>\n",
       "      <td>4</td>\n",
       "      <td>1</td>\n",
       "    </tr>\n",
       "    <tr>\n",
       "      <th>Hornet 4 Drive</th>\n",
       "      <td>21.4</td>\n",
       "      <td>6</td>\n",
       "      <td>258.0</td>\n",
       "      <td>110</td>\n",
       "      <td>3.08</td>\n",
       "      <td>3.215</td>\n",
       "      <td>19.44</td>\n",
       "      <td>1</td>\n",
       "      <td>0</td>\n",
       "      <td>3</td>\n",
       "      <td>1</td>\n",
       "    </tr>\n",
       "    <tr>\n",
       "      <th>Hornet Sportabout</th>\n",
       "      <td>18.7</td>\n",
       "      <td>8</td>\n",
       "      <td>360.0</td>\n",
       "      <td>175</td>\n",
       "      <td>3.15</td>\n",
       "      <td>3.440</td>\n",
       "      <td>17.02</td>\n",
       "      <td>0</td>\n",
       "      <td>0</td>\n",
       "      <td>3</td>\n",
       "      <td>2</td>\n",
       "    </tr>\n",
       "  </tbody>\n",
       "</table>\n",
       "</div>"
      ],
      "text/plain": [
       "                    mpg  cyl   disp   hp  drat     wt   qsec  vs  am  gear  \\\n",
       "Mazda RX4          21.0    6  160.0  110  3.90  2.620  16.46   0   1     4   \n",
       "Mazda RX4 Wag      21.0    6  160.0  110  3.90  2.875  17.02   0   1     4   \n",
       "Datsun 710         22.8    4  108.0   93  3.85  2.320  18.61   1   1     4   \n",
       "Hornet 4 Drive     21.4    6  258.0  110  3.08  3.215  19.44   1   0     3   \n",
       "Hornet Sportabout  18.7    8  360.0  175  3.15  3.440  17.02   0   0     3   \n",
       "\n",
       "                   carb  \n",
       "Mazda RX4             4  \n",
       "Mazda RX4 Wag         4  \n",
       "Datsun 710            1  \n",
       "Hornet 4 Drive        1  \n",
       "Hornet Sportabout     2  "
      ]
     },
     "execution_count": 3,
     "metadata": {},
     "output_type": "execute_result"
    }
   ],
   "source": [
    "df.head()"
   ]
  },
  {
   "cell_type": "markdown",
   "metadata": {},
   "source": [
    "The goal for the machine learning models in this tutorial will be to predict each car's gas mileage (`mpg`) from the car's other features.\n",
    "\n",
    "We will split the records into training and test datasets: each model will be fitted using the training data, and evaluated using the withheld test data."
   ]
  },
  {
   "cell_type": "code",
   "execution_count": 4,
   "metadata": {
    "collapsed": false
   },
   "outputs": [
    {
     "data": {
      "text/plain": [
       "(9, 10)"
      ]
     },
     "execution_count": 4,
     "metadata": {},
     "output_type": "execute_result"
    }
   ],
   "source": [
    "from sklearn.cross_validation import train_test_split\n",
    "\n",
    "# split the dataset into features available for prediction (X) and value to predict (y)\n",
    "y = df['mpg'].values\n",
    "X = df.drop('mpg', 1).values\n",
    "feature_names = df.drop('mpg', 1).columns\n",
    "\n",
    "# save 30% of the records for the test set\n",
    "X_train, X_test, y_train, y_test = train_test_split(X, y, test_size=0.7, random_state=123)\n",
    "X_train.shape"
   ]
  },
  {
   "cell_type": "markdown",
   "metadata": {},
   "source": [
    "As you can see from the description above, the number of predictive features available in this dataset (10) is comparable to the number of records (22). Such conditions tend to produce overfitted models that give exceptional predictions on their own training data, but poor predictions on the withheld test data. We will see an example of an overfitted model below."
   ]
  },
  {
   "cell_type": "markdown",
   "metadata": {},
   "source": [
    "## Fit Models\n",
    "### Linear Model\n",
    "The following lines of code fit a linear model (without regularization) using all of the original features:"
   ]
  },
  {
   "cell_type": "code",
   "execution_count": 5,
   "metadata": {
    "collapsed": false
   },
   "outputs": [
    {
     "data": {
      "text/plain": [
       "LinearRegression(copy_X=True, fit_intercept=True, n_jobs=1, normalize=False)"
      ]
     },
     "execution_count": 5,
     "metadata": {},
     "output_type": "execute_result"
    }
   ],
   "source": [
    "from sklearn.linear_model import LinearRegression\n",
    "\n",
    "lm = LinearRegression()\n",
    "lm.fit(X_train, y_train)"
   ]
  },
  {
   "cell_type": "markdown",
   "metadata": {},
   "source": [
    "Below, we print the R-squared value for the true vs. predicted `mpg` values in the *training* set. We also show the fitted coefficients for different features."
   ]
  },
  {
   "cell_type": "code",
   "execution_count": 6,
   "metadata": {
    "collapsed": false
   },
   "outputs": [
    {
     "name": "stdout",
     "output_type": "stream",
     "text": [
      "The R-squared value for the training set is: 1.0000\n"
     ]
    },
    {
     "data": {
      "text/html": [
       "<div>\n",
       "<table border=\"1\" class=\"dataframe\">\n",
       "  <thead>\n",
       "    <tr style=\"text-align: right;\">\n",
       "      <th></th>\n",
       "      <th>Feature</th>\n",
       "      <th>Coefficient</th>\n",
       "    </tr>\n",
       "  </thead>\n",
       "  <tbody>\n",
       "    <tr>\n",
       "      <th>0</th>\n",
       "      <td>intercept</td>\n",
       "      <td>-96.037501</td>\n",
       "    </tr>\n",
       "    <tr>\n",
       "      <th>1</th>\n",
       "      <td>cyl</td>\n",
       "      <td>-5.777114</td>\n",
       "    </tr>\n",
       "    <tr>\n",
       "      <th>2</th>\n",
       "      <td>disp</td>\n",
       "      <td>0.183642</td>\n",
       "    </tr>\n",
       "    <tr>\n",
       "      <th>3</th>\n",
       "      <td>hp</td>\n",
       "      <td>-0.245128</td>\n",
       "    </tr>\n",
       "    <tr>\n",
       "      <th>4</th>\n",
       "      <td>drat</td>\n",
       "      <td>20.683140</td>\n",
       "    </tr>\n",
       "    <tr>\n",
       "      <th>5</th>\n",
       "      <td>wt</td>\n",
       "      <td>6.713631</td>\n",
       "    </tr>\n",
       "    <tr>\n",
       "      <th>6</th>\n",
       "      <td>qsec</td>\n",
       "      <td>5.128808</td>\n",
       "    </tr>\n",
       "    <tr>\n",
       "      <th>7</th>\n",
       "      <td>vs</td>\n",
       "      <td>-12.882279</td>\n",
       "    </tr>\n",
       "    <tr>\n",
       "      <th>8</th>\n",
       "      <td>am</td>\n",
       "      <td>34.980730</td>\n",
       "    </tr>\n",
       "    <tr>\n",
       "      <th>9</th>\n",
       "      <td>gear</td>\n",
       "      <td>-19.251219</td>\n",
       "    </tr>\n",
       "    <tr>\n",
       "      <th>10</th>\n",
       "      <td>carb</td>\n",
       "      <td>9.163095</td>\n",
       "    </tr>\n",
       "  </tbody>\n",
       "</table>\n",
       "</div>"
      ],
      "text/plain": [
       "      Feature  Coefficient\n",
       "0   intercept   -96.037501\n",
       "1         cyl    -5.777114\n",
       "2        disp     0.183642\n",
       "3          hp    -0.245128\n",
       "4        drat    20.683140\n",
       "5          wt     6.713631\n",
       "6        qsec     5.128808\n",
       "7          vs   -12.882279\n",
       "8          am    34.980730\n",
       "9        gear   -19.251219\n",
       "10       carb     9.163095"
      ]
     },
     "execution_count": 6,
     "metadata": {},
     "output_type": "execute_result"
    }
   ],
   "source": [
    "import pandas as pd\n",
    "from sklearn.metrics import r2_score\n",
    "\n",
    "# print R^2 for the training set\n",
    "print('The R-squared value for the training set is: {:0.4f}'.format(r2_score(y_train, lm.predict(X_train))))\n",
    "\n",
    "# print intercept and coefficients\n",
    "param_df = pd.DataFrame({\"Coefficient\": [lm.intercept_] + list(lm.coef_),\n",
    "                         \"Feature\": ['intercept'] + list(feature_names)})\n",
    "param_df[['Feature', 'Coefficient']]"
   ]
  },
  {
   "cell_type": "markdown",
   "metadata": {},
   "source": [
    "Notice that the model performs very well on the training data to which it was fitted. (Predictions of the model account for 89% of the variance in `mpg` values.) Some of the feature coefficients may reflect our intuition: for example, heavy cars tend to have worse gas mileage ($\\beta_{\\textrm{wt}} = -5.0$), and cars with manual transmissions tend to have better gas mileage ($\\beta_{\\textrm{am}} = 5.2$).\n",
    "\n",
    "Now, let's check the model's performance on the test dataset:"
   ]
  },
  {
   "cell_type": "code",
   "execution_count": 7,
   "metadata": {
    "collapsed": false
   },
   "outputs": [
    {
     "data": {
      "text/html": [
       "<div>\n",
       "<table border=\"1\" class=\"dataframe\">\n",
       "  <thead>\n",
       "    <tr style=\"text-align: right;\">\n",
       "      <th></th>\n",
       "      <th>Linear Regression, all variables</th>\n",
       "    </tr>\n",
       "  </thead>\n",
       "  <tbody>\n",
       "    <tr>\n",
       "      <th>R-squared</th>\n",
       "      <td>-15.887973</td>\n",
       "    </tr>\n",
       "    <tr>\n",
       "      <th>Mean Absolute Error</th>\n",
       "      <td>15.632566</td>\n",
       "    </tr>\n",
       "    <tr>\n",
       "      <th>Root Mean Squared Error</th>\n",
       "      <td>22.142005</td>\n",
       "    </tr>\n",
       "    <tr>\n",
       "      <th>Relative Absolute Error</th>\n",
       "      <td>3.630851</td>\n",
       "    </tr>\n",
       "    <tr>\n",
       "      <th>Relative Squared Error</th>\n",
       "      <td>16.887973</td>\n",
       "    </tr>\n",
       "  </tbody>\n",
       "</table>\n",
       "</div>"
      ],
      "text/plain": [
       "                         Linear Regression, all variables\n",
       "R-squared                                      -15.887973\n",
       "Mean Absolute Error                             15.632566\n",
       "Root Mean Squared Error                         22.142005\n",
       "Relative Absolute Error                          3.630851\n",
       "Relative Squared Error                          16.887973"
      ]
     },
     "execution_count": 7,
     "metadata": {},
     "output_type": "execute_result"
    }
   ],
   "source": [
    "import numpy as np\n",
    "\n",
    "predicted = lm.predict(X_test)\n",
    "\n",
    "r_squared = r2_score(y_test, predicted)\n",
    "mae = np.mean(abs(predicted - y_test))\n",
    "rmse = np.sqrt(np.mean((predicted - y_test)**2))\n",
    "rae = np.mean(abs(predicted - y_test)) / np.mean(abs(y_test - np.mean(y_test)))\n",
    "rse = np.mean((predicted - y_test)**2) / np.mean((y_test - np.mean(y_test))**2)\n",
    "\n",
    "# Create a data frame for storing results from each model\n",
    "summary_df = pd.DataFrame(index = ['R-squared', 'Mean Absolute Error', 'Root Mean Squared Error',\n",
    "                                   'Relative Absolute Error', 'Relative Squared Error'])\n",
    "summary_df['Linear Regression, all variables'] = [r_squared, mae, rmse, rae, rse]\n",
    "summary_df"
   ]
  },
  {
   "cell_type": "markdown",
   "metadata": {},
   "source": [
    "Notice that the R-squared value for true vs. predicted `mpg` of the test set is much lower than it was for the training set. (Granted, our test set is not very large, so some fluctuation is expected.) This is indicative of model overfitting."
   ]
  },
  {
   "cell_type": "markdown",
   "metadata": {},
   "source": [
    "### Linear Model with Feature Selection\n",
    "\n",
    "One way to reduce overfitting is to remove some predictive features from the model. Ideally we would be able to examine many or all possible subsets of features and select the subset of features that gives the best performance, but that is usually impractical due to the large number of possible subsets. A common alternative is to start from the full list of features and recursively remove one that seems to be contributing least to the model's performance (i.e., the feature whose removal has the least negative/most positive effect on model performance). This process is called recursive feature elimination (RFE).\n",
    "\n",
    "RFE fits many models and compares their performance: it therefore requires both training and testing data. We would like to reserve the test dataset we created earlier to fairly compare all models, so RFE will need to set aside some records in the `X_train`/`y_train` dataset for its own round of testing. Fortunately, this is easily done with `scikit-learn`'s cross-validation functionality:"
   ]
  },
  {
   "cell_type": "code",
   "execution_count": 8,
   "metadata": {
    "collapsed": false
   },
   "outputs": [
    {
     "name": "stderr",
     "output_type": "stream",
     "text": [
      "/home/nbuser/anaconda3_410/lib/python3.5/site-packages/matplotlib/font_manager.py:273: UserWarning: Matplotlib is building the font cache using fc-list. This may take a moment.\n",
      "  warnings.warn('Matplotlib is building the font cache using fc-list. This may take a moment.')\n",
      "/home/nbuser/anaconda3_410/lib/python3.5/site-packages/matplotlib/font_manager.py:273: UserWarning: Matplotlib is building the font cache using fc-list. This may take a moment.\n",
      "  warnings.warn('Matplotlib is building the font cache using fc-list. This may take a moment.')\n"
     ]
    },
    {
     "name": "stdout",
     "output_type": "stream",
     "text": [
      "Optimal number of features: 3\n",
      "Features selected: drat, am, gear\n",
      "Suggested order of feature removal: qsec, cyl, disp, vs, wt, hp, carb, drat, am, gear\n"
     ]
    },
    {
     "data": {
      "image/png": "[encoded data removed]",
      "text/plain": [
       "<matplotlib.figure.Figure at 0x7f1920dff518>"
      ]
     },
     "metadata": {},
     "output_type": "display_data"
    }
   ],
   "source": [
    "%matplotlib inline\n",
    "\n",
    "import matplotlib.pyplot as plt\n",
    "from sklearn.preprocessing import StandardScaler\n",
    "from sklearn.feature_selection import RFECV\n",
    "import seaborn as sns\n",
    "\n",
    "# scale each feature to zero mean and unit variance\n",
    "scaler = StandardScaler()\n",
    "X_scaled = scaler.fit_transform(X_train)\n",
    "\n",
    "# recursive feature elimination with cross validation, using r-squared score as metric\n",
    "lm = LinearRegression()  # using a linear model as before\n",
    "rfecv = RFECV(estimator=lm, step=1, cv=5) \n",
    "rfecv.fit(X_scaled, y_train)\n",
    "\n",
    "# print the optimal number of features\n",
    "print('Optimal number of features: {}'.format(rfecv.n_features_))\n",
    "\n",
    "# save the selected features\n",
    "print('Features selected: {}'.format(', '.join(np.array(feature_names)[rfecv.support_].tolist())))\n",
    "\n",
    "# get the feature elimination order\n",
    "ranked_features, _ = zip(*sorted(zip(feature_names, rfecv.ranking_.tolist()),\n",
    "                                 key=lambda x: x[1],\n",
    "                                 reverse=True))\n",
    "print('Suggested order of feature removal: {}'.format(', '.join(ranked_features)))\n",
    "\n",
    "# plot number of features vs. scores\n",
    "sns.set_style(\"darkgrid\")\n",
    "plt.figure(figsize=(8, 4))\n",
    "plt.xlabel(\"Number of features selected\")\n",
    "plt.ylabel(\"Score\")\n",
    "plt.plot(range(1, len(rfecv.grid_scores_) + 1), rfecv.grid_scores_)\n",
    "plt.show()"
   ]
  },
  {
   "cell_type": "markdown",
   "metadata": {},
   "source": [
    "The plot shows that the performance of the model (on the cross-validation testing set) tends to improve as we reduce the number of features in the model. As expected, weight and presence of an automatic transmission are among the features which would be removed last (since they are relevant for predicting gas mileage), whereas the number of forward gears is not so relevant.\n",
    "\n",
    "We can now fit a linear model using only the selected features, and assess its performance on the test set:"
   ]
  },
  {
   "cell_type": "code",
   "execution_count": 9,
   "metadata": {
    "collapsed": false
   },
   "outputs": [
    {
     "data": {
      "text/html": [
       "<div>\n",
       "<table border=\"1\" class=\"dataframe\">\n",
       "  <thead>\n",
       "    <tr style=\"text-align: right;\">\n",
       "      <th></th>\n",
       "      <th>Linear Regression, all variables</th>\n",
       "      <th>Linear Regression, selected variables</th>\n",
       "    </tr>\n",
       "  </thead>\n",
       "  <tbody>\n",
       "    <tr>\n",
       "      <th>R-squared</th>\n",
       "      <td>-15.887973</td>\n",
       "      <td>-0.225340</td>\n",
       "    </tr>\n",
       "    <tr>\n",
       "      <th>Mean Absolute Error</th>\n",
       "      <td>15.632566</td>\n",
       "      <td>4.943677</td>\n",
       "    </tr>\n",
       "    <tr>\n",
       "      <th>Root Mean Squared Error</th>\n",
       "      <td>22.142005</td>\n",
       "      <td>5.964259</td>\n",
       "    </tr>\n",
       "    <tr>\n",
       "      <th>Relative Absolute Error</th>\n",
       "      <td>3.630851</td>\n",
       "      <td>1.148228</td>\n",
       "    </tr>\n",
       "    <tr>\n",
       "      <th>Relative Squared Error</th>\n",
       "      <td>16.887973</td>\n",
       "      <td>1.225340</td>\n",
       "    </tr>\n",
       "  </tbody>\n",
       "</table>\n",
       "</div>"
      ],
      "text/plain": [
       "                         Linear Regression, all variables  \\\n",
       "R-squared                                      -15.887973   \n",
       "Mean Absolute Error                             15.632566   \n",
       "Root Mean Squared Error                         22.142005   \n",
       "Relative Absolute Error                          3.630851   \n",
       "Relative Squared Error                          16.887973   \n",
       "\n",
       "                         Linear Regression, selected variables  \n",
       "R-squared                                            -0.225340  \n",
       "Mean Absolute Error                                   4.943677  \n",
       "Root Mean Squared Error                               5.964259  \n",
       "Relative Absolute Error                               1.148228  \n",
       "Relative Squared Error                                1.225340  "
      ]
     },
     "execution_count": 9,
     "metadata": {},
     "output_type": "execute_result"
    }
   ],
   "source": [
    "X_train_subset = X_train[:, rfecv.support_]\n",
    "lm2 = LinearRegression()\n",
    "lm2.fit(X_train_subset, y_train)\n",
    "\n",
    "X_test_part = X_test[:, rfecv.support_]\n",
    "predicted = lm2.predict(X_test_part)\n",
    "\n",
    "r_squared = r2_score(y_test, predicted)\n",
    "mae = np.mean(abs(predicted - y_test))\n",
    "rmse = np.sqrt(np.mean((predicted - y_test)**2))\n",
    "rae = np.mean(abs(predicted - y_test)) / np.mean(abs(y_test - np.mean(y_test)))\n",
    "rse = np.mean((predicted - y_test)**2) / np.mean((y_test - np.mean(y_test))**2)\n",
    "\n",
    "summary_df['Linear Regression, selected variables'] = [r_squared, mae, rmse, rae, rse]\n",
    "summary_df"
   ]
  },
  {
   "cell_type": "markdown",
   "metadata": {},
   "source": [
    "The model's performance on the withheld test set improved (by all metrics) after the majority of features were removed."
   ]
  },
  {
   "cell_type": "markdown",
   "metadata": {},
   "source": [
    "### Gradient Boosting Machine Regression Model\n",
    "\n",
    "Before fitting the gradient boosting model, we need to estimate some parameters and we'll do this using cross-validation along with grid search. The following code box may take some time to run:"
   ]
  },
  {
   "cell_type": "code",
   "execution_count": 10,
   "metadata": {
    "collapsed": false
   },
   "outputs": [
    {
     "name": "stdout",
     "output_type": "stream",
     "text": [
      "The grid cross validation lasted 105.1 seconds\n",
      "Best parameters set found on development set:\n",
      "\tmax_depth: 2, learning_rate: 0.001, min_samples_split: 1, n_estimators: 5000\n",
      "Grid scores on development set:\n",
      "\t-8.38 (+/- 20.95) for max_depth: 2, learning_rate: 0.001, min_samples_split: 1, n_estimators: 5000\n",
      "\t-8.38 (+/- 21.31) for max_depth: 2, learning_rate: 0.001, min_samples_split: 1, n_estimators: 10000\n",
      "\t-8.38 (+/- 20.95) for max_depth: 2, learning_rate: 0.001, min_samples_split: 2, n_estimators: 5000\n",
      "\t-8.38 (+/- 21.31) for max_depth: 2, learning_rate: 0.001, min_samples_split: 2, n_estimators: 10000\n",
      "\t-8.47 (+/- 19.54) for max_depth: 4, learning_rate: 0.001, min_samples_split: 1, n_estimators: 5000\n",
      "\t-8.49 (+/- 19.93) for max_depth: 4, learning_rate: 0.001, min_samples_split: 1, n_estimators: 10000\n",
      "\t-8.47 (+/- 19.54) for max_depth: 4, learning_rate: 0.001, min_samples_split: 2, n_estimators: 5000\n",
      "\t-8.49 (+/- 19.93) for max_depth: 4, learning_rate: 0.001, min_samples_split: 2, n_estimators: 10000\n",
      "\t-8.87 (+/- 24.01) for max_depth: 2, learning_rate: 0.01, min_samples_split: 1, n_estimators: 5000\n",
      "\t-8.87 (+/- 24.01) for max_depth: 2, learning_rate: 0.01, min_samples_split: 1, n_estimators: 10000\n",
      "\t-8.87 (+/- 24.01) for max_depth: 2, learning_rate: 0.01, min_samples_split: 2, n_estimators: 5000\n",
      "\t-8.87 (+/- 24.01) for max_depth: 2, learning_rate: 0.01, min_samples_split: 2, n_estimators: 10000\n",
      "\t-9.11 (+/- 22.99) for max_depth: 4, learning_rate: 0.01, min_samples_split: 1, n_estimators: 5000\n",
      "\t-9.11 (+/- 22.99) for max_depth: 4, learning_rate: 0.01, min_samples_split: 1, n_estimators: 10000\n",
      "\t-9.11 (+/- 22.99) for max_depth: 4, learning_rate: 0.01, min_samples_split: 2, n_estimators: 5000\n",
      "\t-9.11 (+/- 22.99) for max_depth: 4, learning_rate: 0.01, min_samples_split: 2, n_estimators: 10000\n"
     ]
    }
   ],
   "source": [
    "from sklearn.grid_search import GridSearchCV\n",
    "from sklearn.ensemble import GradientBoostingRegressor\n",
    "from time import time\n",
    "\n",
    "# We will try all combinations of these possible parameter values\n",
    "tuned_params = {'n_estimators': [5000, 10000], \n",
    "                'max_depth': [2,4], \n",
    "                'min_samples_split': [1, 2],\n",
    "                'learning_rate': [0.001, 0.01]}\n",
    "gscv = GridSearchCV(GradientBoostingRegressor(loss = 'ls', random_state=0), \n",
    "                    tuned_params, cv=5, scoring='mean_squared_error')\n",
    "\n",
    "# th\n",
    "start = time()\n",
    "gscv.fit(X_train, y_train)\n",
    "\n",
    "print('The grid cross validation lasted {:0.1f} seconds'.format(time() - start))\n",
    "print('Best parameters set found on development set:\\n\\t{}'.format(\n",
    "        ', '.join(['{}: {}'.format(i,j) for i,j in gscv.best_params_.items()])))\n",
    "print('Grid scores on development set:')\n",
    "for params, mean_score, scores in gscv.grid_scores_:\n",
    "    print('\\t{:0.2f} (+/- {:0.2f}) for {}'.format(mean_score,\n",
    "                                      scores.std() * 2,\n",
    "                                      ', '.join(['{}: {}'.format(i, j) for i, j in params.items()])))"
   ]
  },
  {
   "cell_type": "markdown",
   "metadata": {},
   "source": [
    "We'll fit the GBM model with the parameters that gave the best performance:"
   ]
  },
  {
   "cell_type": "code",
   "execution_count": 11,
   "metadata": {
    "collapsed": false
   },
   "outputs": [
    {
     "data": {
      "text/plain": [
       "GradientBoostingRegressor(alpha=0.9, init=None, learning_rate=0.001,\n",
       "             loss='ls', max_depth=2, max_features=None,\n",
       "             max_leaf_nodes=None, min_samples_leaf=1, min_samples_split=1,\n",
       "             min_weight_fraction_leaf=0.0, n_estimators=5000,\n",
       "             presort='auto', random_state=123, subsample=1.0, verbose=0,\n",
       "             warm_start=False)"
      ]
     },
     "execution_count": 11,
     "metadata": {},
     "output_type": "execute_result"
    }
   ],
   "source": [
    "# fit model with the best set of parameter values\n",
    "params = gscv.best_params_\n",
    "params['random_state'] = 123\n",
    "params['loss'] = 'ls'\n",
    "gbm = GradientBoostingRegressor(**params)\n",
    "\n",
    "gbm.fit(X_train, y_train)"
   ]
  },
  {
   "cell_type": "markdown",
   "metadata": {},
   "source": [
    "Now we can check the model's performance on the test data:"
   ]
  },
  {
   "cell_type": "code",
   "execution_count": 12,
   "metadata": {
    "collapsed": false
   },
   "outputs": [
    {
     "data": {
      "text/html": [
       "<div>\n",
       "<table border=\"1\" class=\"dataframe\">\n",
       "  <thead>\n",
       "    <tr style=\"text-align: right;\">\n",
       "      <th></th>\n",
       "      <th>Linear Regression, all variables</th>\n",
       "      <th>Linear Regression, selected variables</th>\n",
       "      <th>Gradient Boosted Machine Regression</th>\n",
       "    </tr>\n",
       "  </thead>\n",
       "  <tbody>\n",
       "    <tr>\n",
       "      <th>R-squared</th>\n",
       "      <td>-15.887973</td>\n",
       "      <td>-0.225340</td>\n",
       "      <td>0.780831</td>\n",
       "    </tr>\n",
       "    <tr>\n",
       "      <th>Mean Absolute Error</th>\n",
       "      <td>15.632566</td>\n",
       "      <td>4.943677</td>\n",
       "      <td>2.068224</td>\n",
       "    </tr>\n",
       "    <tr>\n",
       "      <th>Root Mean Squared Error</th>\n",
       "      <td>22.142005</td>\n",
       "      <td>5.964259</td>\n",
       "      <td>2.522424</td>\n",
       "    </tr>\n",
       "    <tr>\n",
       "      <th>Relative Absolute Error</th>\n",
       "      <td>3.630851</td>\n",
       "      <td>1.148228</td>\n",
       "      <td>0.480370</td>\n",
       "    </tr>\n",
       "    <tr>\n",
       "      <th>Relative Squared Error</th>\n",
       "      <td>16.887973</td>\n",
       "      <td>1.225340</td>\n",
       "      <td>0.219169</td>\n",
       "    </tr>\n",
       "  </tbody>\n",
       "</table>\n",
       "</div>"
      ],
      "text/plain": [
       "                         Linear Regression, all variables  \\\n",
       "R-squared                                      -15.887973   \n",
       "Mean Absolute Error                             15.632566   \n",
       "Root Mean Squared Error                         22.142005   \n",
       "Relative Absolute Error                          3.630851   \n",
       "Relative Squared Error                          16.887973   \n",
       "\n",
       "                         Linear Regression, selected variables  \\\n",
       "R-squared                                            -0.225340   \n",
       "Mean Absolute Error                                   4.943677   \n",
       "Root Mean Squared Error                               5.964259   \n",
       "Relative Absolute Error                               1.148228   \n",
       "Relative Squared Error                                1.225340   \n",
       "\n",
       "                         Gradient Boosted Machine Regression  \n",
       "R-squared                                           0.780831  \n",
       "Mean Absolute Error                                 2.068224  \n",
       "Root Mean Squared Error                             2.522424  \n",
       "Relative Absolute Error                             0.480370  \n",
       "Relative Squared Error                              0.219169  "
      ]
     },
     "execution_count": 12,
     "metadata": {},
     "output_type": "execute_result"
    }
   ],
   "source": [
    "predicted = gbm.predict(X_test)\n",
    "\n",
    "r_squared = r2_score(y_test, predicted)\n",
    "mae = np.mean(abs(predicted - y_test))\n",
    "rmse = np.sqrt(np.mean((predicted - y_test)**2))\n",
    "rae = np.mean(abs(predicted - y_test)) / np.mean(abs(y_test - np.mean(y_test)))\n",
    "rse = np.mean((predicted - y_test)**2) / np.mean((y_test - np.mean(y_test))**2)\n",
    "\n",
    "summary_df['Gradient Boosted Machine Regression'] = [r_squared, mae, rmse, rae, rse]\n",
    "summary_df"
   ]
  },
  {
   "cell_type": "markdown",
   "metadata": {},
   "source": [
    "The plot below shows the feature importances:"
   ]
  },
  {
   "cell_type": "code",
   "execution_count": 13,
   "metadata": {
    "collapsed": false
   },
   "outputs": [
    {
     "data": {
      "image/png": "[encoded data removed]",
      "text/plain": [
       "<matplotlib.figure.Figure at 0x7f191fe9e198>"
      ]
     },
     "metadata": {},
     "output_type": "display_data"
    }
   ],
   "source": [
    "# plot variable importance\n",
    "import numpy as np\n",
    "import matplotlib.pyplot as plt\n",
    "\n",
    "feature_importance = gbm.feature_importances_\n",
    "feature_importance = 100.0 * (feature_importance / feature_importance.max())\n",
    "sorted_idx = np.argsort(feature_importance)[::-1]\n",
    "\n",
    "sns.set_style(\"darkgrid\")\n",
    "plt.figure(figsize=(10, 6))\n",
    "index = np.arange(len(feature_names))\n",
    "bar_width = 0.5\n",
    "plt.bar(index, feature_importance[sorted_idx], color='black', alpha=0.5)\n",
    "plt.xlabel('features')\n",
    "plt.ylabel('importance')\n",
    "plt.title('Feature importance')\n",
    "plt.xticks(index + bar_width, np.array(feature_names)[sorted_idx])\n",
    "plt.tight_layout()\n",
    "plt.show()"
   ]
  },
  {
   "cell_type": "markdown",
   "metadata": {},
   "source": [
    "Some features which were eliminated later by RFE (like `am`) have low feature importance in the GBM model.\n",
    "\n",
    "Let's assess whether our GBM model's performance is likely to be limited by the number of estimators used:"
   ]
  },
  {
   "cell_type": "code",
   "execution_count": 14,
   "metadata": {
    "collapsed": false
   },
   "outputs": [
    {
     "name": "stderr",
     "output_type": "stream",
     "text": [
      "/home/nbuser/anaconda3_410/lib/python3.5/site-packages/sklearn/utils/__init__.py:93: DeprecationWarning: Function staged_decision_function is deprecated;  and will be removed in 0.19\n",
      "  warnings.warn(msg, category=DeprecationWarning)\n"
     ]
    },
    {
     "data": {
      "text/plain": [
       "<matplotlib.text.Text at 0x7f191fe6acc0>"
      ]
     },
     "execution_count": 14,
     "metadata": {},
     "output_type": "execute_result"
    },
    {
     "data": {
      "image/png": "[encoded data removed]",
      "text/plain": [
       "<matplotlib.figure.Figure at 0x7f191feb3cc0>"
      ]
     },
     "metadata": {},
     "output_type": "display_data"
    }
   ],
   "source": [
    "# plot deviance for training set and test set\n",
    "test_score = np.zeros(params['n_estimators'])\n",
    "\n",
    "for j, y_pred in enumerate(gbm.staged_decision_function(X_test)):\n",
    "    test_score[j] = gbm.loss_(y_test, y_pred)\n",
    "\n",
    "sns.set_style(\"darkgrid\")\n",
    "plt.figure(figsize=(10, 6))\n",
    "plt.title('Deviance')\n",
    "plt.plot(np.arange(params['n_estimators']) + 1, gbm.train_score_, 'b-',\n",
    "         label='Training Set Deviance')\n",
    "plt.plot(np.arange(params['n_estimators']) + 1, test_score, 'r-',\n",
    "         label='Test Set Deviance')\n",
    "plt.legend(loc='upper right')\n",
    "plt.xlabel('Number of estimators')\n",
    "plt.ylabel('Deviance')"
   ]
  },
  {
   "cell_type": "markdown",
   "metadata": {},
   "source": [
    "The plot above demonstrates that the loss function plateaus well before we reach the total number of estimators used by our model. We could likely get away with using fewer estimators for a speed improvement."
   ]
  },
  {
   "cell_type": "markdown",
   "metadata": {},
   "source": [
    "## Conclusion\n",
    "The following table compares the performance of the three models. Variable selection using RFE improved the performance of the linear regression model by all metrics. The GBM model performed comparably to linear regression with variable selection. (We will avoid reading too deeply into the differences in metrics, because the test dataset is so small.)"
   ]
  },
  {
   "cell_type": "code",
   "execution_count": 15,
   "metadata": {
    "collapsed": false
   },
   "outputs": [
    {
     "data": {
      "text/html": [
       "<div>\n",
       "<table border=\"1\" class=\"dataframe\">\n",
       "  <thead>\n",
       "    <tr style=\"text-align: right;\">\n",
       "      <th></th>\n",
       "      <th>Linear Regression, all variables</th>\n",
       "      <th>Linear Regression, selected variables</th>\n",
       "      <th>Gradient Boosted Machine Regression</th>\n",
       "    </tr>\n",
       "  </thead>\n",
       "  <tbody>\n",
       "    <tr>\n",
       "      <th>R-squared</th>\n",
       "      <td>-15.887973</td>\n",
       "      <td>-0.225340</td>\n",
       "      <td>0.780831</td>\n",
       "    </tr>\n",
       "    <tr>\n",
       "      <th>Mean Absolute Error</th>\n",
       "      <td>15.632566</td>\n",
       "      <td>4.943677</td>\n",
       "      <td>2.068224</td>\n",
       "    </tr>\n",
       "    <tr>\n",
       "      <th>Root Mean Squared Error</th>\n",
       "      <td>22.142005</td>\n",
       "      <td>5.964259</td>\n",
       "      <td>2.522424</td>\n",
       "    </tr>\n",
       "    <tr>\n",
       "      <th>Relative Absolute Error</th>\n",
       "      <td>3.630851</td>\n",
       "      <td>1.148228</td>\n",
       "      <td>0.480370</td>\n",
       "    </tr>\n",
       "    <tr>\n",
       "      <th>Relative Squared Error</th>\n",
       "      <td>16.887973</td>\n",
       "      <td>1.225340</td>\n",
       "      <td>0.219169</td>\n",
       "    </tr>\n",
       "  </tbody>\n",
       "</table>\n",
       "</div>"
      ],
      "text/plain": [
       "                         Linear Regression, all variables  \\\n",
       "R-squared                                      -15.887973   \n",
       "Mean Absolute Error                             15.632566   \n",
       "Root Mean Squared Error                         22.142005   \n",
       "Relative Absolute Error                          3.630851   \n",
       "Relative Squared Error                          16.887973   \n",
       "\n",
       "                         Linear Regression, selected variables  \\\n",
       "R-squared                                            -0.225340   \n",
       "Mean Absolute Error                                   4.943677   \n",
       "Root Mean Squared Error                               5.964259   \n",
       "Relative Absolute Error                               1.148228   \n",
       "Relative Squared Error                                1.225340   \n",
       "\n",
       "                         Gradient Boosted Machine Regression  \n",
       "R-squared                                           0.780831  \n",
       "Mean Absolute Error                                 2.068224  \n",
       "Root Mean Squared Error                             2.522424  \n",
       "Relative Absolute Error                             0.480370  \n",
       "Relative Squared Error                              0.219169  "
      ]
     },
     "execution_count": 15,
     "metadata": {},
     "output_type": "execute_result"
    }
   ],
   "source": [
    "summary_df"
   ]
  },
  {
   "cell_type": "code",
   "execution_count": null,
   "metadata": {
    "collapsed": true
   },
   "outputs": [],
   "source": []
  }
 ],
 "metadata": {
  "kernelspec": {
   "display_name": "Python 3",
   "language": "python",
   "name": "python3"
  },
  "language_info": {
   "codemirror_mode": {
    "name": "ipython",
    "version": 3
   },
   "file_extension": ".py",
   "mimetype": "text/x-python",
   "name": "python",
   "nbconvert_exporter": "python",
   "pygments_lexer": "ipython3",
   "version": "3.5.1"
  }
 },
 "nbformat": 4,
 "nbformat_minor": 0
}
